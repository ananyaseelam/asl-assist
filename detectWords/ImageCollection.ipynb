{
 "cells": [
  {
   "cell_type": "code",
   "execution_count": 1,
   "metadata": {},
   "outputs": [],
   "source": [
    "# Adding Imports\n",
    "import cv2\n",
    "import os\n",
    "import time\n",
    "import uuid"
   ]
  },
  {
   "cell_type": "code",
   "execution_count": 2,
   "metadata": {},
   "outputs": [],
   "source": [
    "IMAGES_PATH = '/Users/ananyaseelam/junior/sp23/ai-prac/RealTimeObjectDetection/Tensorflow/workspace/images/'"
   ]
  },
  {
   "cell_type": "code",
   "execution_count": 3,
   "metadata": {},
   "outputs": [],
   "source": [
    "labels = ['hello', 'thanks', 'yes', 'no', 'iloveyou']\n",
    "num_imgs = 15"
   ]
  },
  {
   "cell_type": "code",
   "execution_count": 4,
   "metadata": {},
   "outputs": [
    {
     "name": "stdout",
     "output_type": "stream",
     "text": [
      "Collecting images for hello\n",
      "/Users/ananyaseelam/junior/sp23/ai-prac/RealTimeObjectDetection/Tensorflow/workspace/images/hello/hello.8637d4ba-f361-11ed-9f34-acde48001122.jpg\n",
      "/Users/ananyaseelam/junior/sp23/ai-prac/RealTimeObjectDetection/Tensorflow/workspace/images/hello/hello.877d2faa-f361-11ed-9f34-acde48001122.jpg\n",
      "/Users/ananyaseelam/junior/sp23/ai-prac/RealTimeObjectDetection/Tensorflow/workspace/images/hello/hello.88bd06c4-f361-11ed-9f34-acde48001122.jpg\n",
      "/Users/ananyaseelam/junior/sp23/ai-prac/RealTimeObjectDetection/Tensorflow/workspace/images/hello/hello.89f2e9aa-f361-11ed-9f34-acde48001122.jpg\n",
      "/Users/ananyaseelam/junior/sp23/ai-prac/RealTimeObjectDetection/Tensorflow/workspace/images/hello/hello.8b2e2b5e-f361-11ed-9f34-acde48001122.jpg\n",
      "/Users/ananyaseelam/junior/sp23/ai-prac/RealTimeObjectDetection/Tensorflow/workspace/images/hello/hello.8c6e44a4-f361-11ed-9f34-acde48001122.jpg\n",
      "/Users/ananyaseelam/junior/sp23/ai-prac/RealTimeObjectDetection/Tensorflow/workspace/images/hello/hello.8da5ef8e-f361-11ed-9f34-acde48001122.jpg\n",
      "/Users/ananyaseelam/junior/sp23/ai-prac/RealTimeObjectDetection/Tensorflow/workspace/images/hello/hello.8ee0c0f4-f361-11ed-9f34-acde48001122.jpg\n",
      "/Users/ananyaseelam/junior/sp23/ai-prac/RealTimeObjectDetection/Tensorflow/workspace/images/hello/hello.901b67ee-f361-11ed-9f34-acde48001122.jpg\n",
      "/Users/ananyaseelam/junior/sp23/ai-prac/RealTimeObjectDetection/Tensorflow/workspace/images/hello/hello.915264dc-f361-11ed-9f34-acde48001122.jpg\n",
      "/Users/ananyaseelam/junior/sp23/ai-prac/RealTimeObjectDetection/Tensorflow/workspace/images/hello/hello.928c3d0a-f361-11ed-9f34-acde48001122.jpg\n",
      "/Users/ananyaseelam/junior/sp23/ai-prac/RealTimeObjectDetection/Tensorflow/workspace/images/hello/hello.93c3447a-f361-11ed-9f34-acde48001122.jpg\n",
      "/Users/ananyaseelam/junior/sp23/ai-prac/RealTimeObjectDetection/Tensorflow/workspace/images/hello/hello.94fd80c6-f361-11ed-9f34-acde48001122.jpg\n",
      "/Users/ananyaseelam/junior/sp23/ai-prac/RealTimeObjectDetection/Tensorflow/workspace/images/hello/hello.963367c6-f361-11ed-9f34-acde48001122.jpg\n",
      "/Users/ananyaseelam/junior/sp23/ai-prac/RealTimeObjectDetection/Tensorflow/workspace/images/hello/hello.9769fd3a-f361-11ed-9f34-acde48001122.jpg\n",
      "Collecting images for thanks\n",
      "/Users/ananyaseelam/junior/sp23/ai-prac/RealTimeObjectDetection/Tensorflow/workspace/images/thanks/thanks.9c3494f6-f361-11ed-9f34-acde48001122.jpg\n",
      "/Users/ananyaseelam/junior/sp23/ai-prac/RealTimeObjectDetection/Tensorflow/workspace/images/thanks/thanks.9d6ecbf2-f361-11ed-9f34-acde48001122.jpg\n",
      "/Users/ananyaseelam/junior/sp23/ai-prac/RealTimeObjectDetection/Tensorflow/workspace/images/thanks/thanks.9ea9f960-f361-11ed-9f34-acde48001122.jpg\n",
      "/Users/ananyaseelam/junior/sp23/ai-prac/RealTimeObjectDetection/Tensorflow/workspace/images/thanks/thanks.9fe4feb0-f361-11ed-9f34-acde48001122.jpg\n",
      "/Users/ananyaseelam/junior/sp23/ai-prac/RealTimeObjectDetection/Tensorflow/workspace/images/thanks/thanks.a120f73e-f361-11ed-9f34-acde48001122.jpg\n",
      "/Users/ananyaseelam/junior/sp23/ai-prac/RealTimeObjectDetection/Tensorflow/workspace/images/thanks/thanks.a25adc50-f361-11ed-9f34-acde48001122.jpg\n",
      "/Users/ananyaseelam/junior/sp23/ai-prac/RealTimeObjectDetection/Tensorflow/workspace/images/thanks/thanks.a3920c7e-f361-11ed-9f34-acde48001122.jpg\n",
      "/Users/ananyaseelam/junior/sp23/ai-prac/RealTimeObjectDetection/Tensorflow/workspace/images/thanks/thanks.a4cc5e32-f361-11ed-9f34-acde48001122.jpg\n",
      "/Users/ananyaseelam/junior/sp23/ai-prac/RealTimeObjectDetection/Tensorflow/workspace/images/thanks/thanks.a603ac74-f361-11ed-9f34-acde48001122.jpg\n",
      "/Users/ananyaseelam/junior/sp23/ai-prac/RealTimeObjectDetection/Tensorflow/workspace/images/thanks/thanks.a73dd38a-f361-11ed-9f34-acde48001122.jpg\n",
      "/Users/ananyaseelam/junior/sp23/ai-prac/RealTimeObjectDetection/Tensorflow/workspace/images/thanks/thanks.a8789578-f361-11ed-9f34-acde48001122.jpg\n",
      "/Users/ananyaseelam/junior/sp23/ai-prac/RealTimeObjectDetection/Tensorflow/workspace/images/thanks/thanks.a9af3988-f361-11ed-9f34-acde48001122.jpg\n",
      "/Users/ananyaseelam/junior/sp23/ai-prac/RealTimeObjectDetection/Tensorflow/workspace/images/thanks/thanks.aae4e578-f361-11ed-9f34-acde48001122.jpg\n",
      "/Users/ananyaseelam/junior/sp23/ai-prac/RealTimeObjectDetection/Tensorflow/workspace/images/thanks/thanks.ac207376-f361-11ed-9f34-acde48001122.jpg\n",
      "/Users/ananyaseelam/junior/sp23/ai-prac/RealTimeObjectDetection/Tensorflow/workspace/images/thanks/thanks.ad5bf71a-f361-11ed-9f34-acde48001122.jpg\n",
      "Collecting images for yes\n",
      "/Users/ananyaseelam/junior/sp23/ai-prac/RealTimeObjectDetection/Tensorflow/workspace/images/yes/yes.b2257b90-f361-11ed-9f34-acde48001122.jpg\n",
      "/Users/ananyaseelam/junior/sp23/ai-prac/RealTimeObjectDetection/Tensorflow/workspace/images/yes/yes.b35d140a-f361-11ed-9f34-acde48001122.jpg\n",
      "/Users/ananyaseelam/junior/sp23/ai-prac/RealTimeObjectDetection/Tensorflow/workspace/images/yes/yes.b497cc2a-f361-11ed-9f34-acde48001122.jpg\n",
      "/Users/ananyaseelam/junior/sp23/ai-prac/RealTimeObjectDetection/Tensorflow/workspace/images/yes/yes.b5d23fd0-f361-11ed-9f34-acde48001122.jpg\n",
      "/Users/ananyaseelam/junior/sp23/ai-prac/RealTimeObjectDetection/Tensorflow/workspace/images/yes/yes.b70d7c70-f361-11ed-9f34-acde48001122.jpg\n",
      "/Users/ananyaseelam/junior/sp23/ai-prac/RealTimeObjectDetection/Tensorflow/workspace/images/yes/yes.b8495118-f361-11ed-9f34-acde48001122.jpg\n",
      "/Users/ananyaseelam/junior/sp23/ai-prac/RealTimeObjectDetection/Tensorflow/workspace/images/yes/yes.b983e2e6-f361-11ed-9f34-acde48001122.jpg\n",
      "/Users/ananyaseelam/junior/sp23/ai-prac/RealTimeObjectDetection/Tensorflow/workspace/images/yes/yes.babf490c-f361-11ed-9f34-acde48001122.jpg\n",
      "/Users/ananyaseelam/junior/sp23/ai-prac/RealTimeObjectDetection/Tensorflow/workspace/images/yes/yes.bbf5ded0-f361-11ed-9f34-acde48001122.jpg\n",
      "/Users/ananyaseelam/junior/sp23/ai-prac/RealTimeObjectDetection/Tensorflow/workspace/images/yes/yes.bd30c79c-f361-11ed-9f34-acde48001122.jpg\n",
      "/Users/ananyaseelam/junior/sp23/ai-prac/RealTimeObjectDetection/Tensorflow/workspace/images/yes/yes.be6ba83e-f361-11ed-9f34-acde48001122.jpg\n",
      "/Users/ananyaseelam/junior/sp23/ai-prac/RealTimeObjectDetection/Tensorflow/workspace/images/yes/yes.bfa2cbf6-f361-11ed-9f34-acde48001122.jpg\n",
      "/Users/ananyaseelam/junior/sp23/ai-prac/RealTimeObjectDetection/Tensorflow/workspace/images/yes/yes.c0dcc15c-f361-11ed-9f34-acde48001122.jpg\n",
      "/Users/ananyaseelam/junior/sp23/ai-prac/RealTimeObjectDetection/Tensorflow/workspace/images/yes/yes.c213a518-f361-11ed-9f34-acde48001122.jpg\n",
      "/Users/ananyaseelam/junior/sp23/ai-prac/RealTimeObjectDetection/Tensorflow/workspace/images/yes/yes.c349c39a-f361-11ed-9f34-acde48001122.jpg\n",
      "Collecting images for no\n",
      "/Users/ananyaseelam/junior/sp23/ai-prac/RealTimeObjectDetection/Tensorflow/workspace/images/no/no.c815160e-f361-11ed-9f34-acde48001122.jpg\n",
      "/Users/ananyaseelam/junior/sp23/ai-prac/RealTimeObjectDetection/Tensorflow/workspace/images/no/no.c9502018-f361-11ed-9f34-acde48001122.jpg\n",
      "/Users/ananyaseelam/junior/sp23/ai-prac/RealTimeObjectDetection/Tensorflow/workspace/images/no/no.ca8b1aa0-f361-11ed-9f34-acde48001122.jpg\n",
      "/Users/ananyaseelam/junior/sp23/ai-prac/RealTimeObjectDetection/Tensorflow/workspace/images/no/no.cbc64976-f361-11ed-9f34-acde48001122.jpg\n",
      "/Users/ananyaseelam/junior/sp23/ai-prac/RealTimeObjectDetection/Tensorflow/workspace/images/no/no.ccfced04-f361-11ed-9f34-acde48001122.jpg\n",
      "/Users/ananyaseelam/junior/sp23/ai-prac/RealTimeObjectDetection/Tensorflow/workspace/images/no/no.ce339556-f361-11ed-9f34-acde48001122.jpg\n",
      "/Users/ananyaseelam/junior/sp23/ai-prac/RealTimeObjectDetection/Tensorflow/workspace/images/no/no.cf6e8322-f361-11ed-9f34-acde48001122.jpg\n",
      "/Users/ananyaseelam/junior/sp23/ai-prac/RealTimeObjectDetection/Tensorflow/workspace/images/no/no.d0a8fd58-f361-11ed-9f34-acde48001122.jpg\n",
      "/Users/ananyaseelam/junior/sp23/ai-prac/RealTimeObjectDetection/Tensorflow/workspace/images/no/no.d1df6572-f361-11ed-9f34-acde48001122.jpg\n",
      "/Users/ananyaseelam/junior/sp23/ai-prac/RealTimeObjectDetection/Tensorflow/workspace/images/no/no.d31b10a8-f361-11ed-9f34-acde48001122.jpg\n",
      "/Users/ananyaseelam/junior/sp23/ai-prac/RealTimeObjectDetection/Tensorflow/workspace/images/no/no.d455082a-f361-11ed-9f34-acde48001122.jpg\n",
      "/Users/ananyaseelam/junior/sp23/ai-prac/RealTimeObjectDetection/Tensorflow/workspace/images/no/no.d58bc1e8-f361-11ed-9f34-acde48001122.jpg\n"
     ]
    },
    {
     "name": "stdout",
     "output_type": "stream",
     "text": [
      "/Users/ananyaseelam/junior/sp23/ai-prac/RealTimeObjectDetection/Tensorflow/workspace/images/no/no.d6c64eca-f361-11ed-9f34-acde48001122.jpg\n",
      "/Users/ananyaseelam/junior/sp23/ai-prac/RealTimeObjectDetection/Tensorflow/workspace/images/no/no.d7fdbbe8-f361-11ed-9f34-acde48001122.jpg\n",
      "/Users/ananyaseelam/junior/sp23/ai-prac/RealTimeObjectDetection/Tensorflow/workspace/images/no/no.d937763e-f361-11ed-9f34-acde48001122.jpg\n",
      "Collecting images for iloveyou\n",
      "/Users/ananyaseelam/junior/sp23/ai-prac/RealTimeObjectDetection/Tensorflow/workspace/images/iloveyou/iloveyou.de036718-f361-11ed-9f34-acde48001122.jpg\n",
      "/Users/ananyaseelam/junior/sp23/ai-prac/RealTimeObjectDetection/Tensorflow/workspace/images/iloveyou/iloveyou.df3d94fa-f361-11ed-9f34-acde48001122.jpg\n",
      "/Users/ananyaseelam/junior/sp23/ai-prac/RealTimeObjectDetection/Tensorflow/workspace/images/iloveyou/iloveyou.e073ee8c-f361-11ed-9f34-acde48001122.jpg\n",
      "/Users/ananyaseelam/junior/sp23/ai-prac/RealTimeObjectDetection/Tensorflow/workspace/images/iloveyou/iloveyou.e1afbcd6-f361-11ed-9f34-acde48001122.jpg\n",
      "/Users/ananyaseelam/junior/sp23/ai-prac/RealTimeObjectDetection/Tensorflow/workspace/images/iloveyou/iloveyou.e2e9cf4c-f361-11ed-9f34-acde48001122.jpg\n",
      "/Users/ananyaseelam/junior/sp23/ai-prac/RealTimeObjectDetection/Tensorflow/workspace/images/iloveyou/iloveyou.e421ba46-f361-11ed-9f34-acde48001122.jpg\n",
      "/Users/ananyaseelam/junior/sp23/ai-prac/RealTimeObjectDetection/Tensorflow/workspace/images/iloveyou/iloveyou.e55cc1bc-f361-11ed-9f34-acde48001122.jpg\n",
      "/Users/ananyaseelam/junior/sp23/ai-prac/RealTimeObjectDetection/Tensorflow/workspace/images/iloveyou/iloveyou.e6975286-f361-11ed-9f34-acde48001122.jpg\n",
      "/Users/ananyaseelam/junior/sp23/ai-prac/RealTimeObjectDetection/Tensorflow/workspace/images/iloveyou/iloveyou.e7d222b6-f361-11ed-9f34-acde48001122.jpg\n",
      "/Users/ananyaseelam/junior/sp23/ai-prac/RealTimeObjectDetection/Tensorflow/workspace/images/iloveyou/iloveyou.e908bf14-f361-11ed-9f34-acde48001122.jpg\n",
      "/Users/ananyaseelam/junior/sp23/ai-prac/RealTimeObjectDetection/Tensorflow/workspace/images/iloveyou/iloveyou.ea43d8c8-f361-11ed-9f34-acde48001122.jpg\n",
      "/Users/ananyaseelam/junior/sp23/ai-prac/RealTimeObjectDetection/Tensorflow/workspace/images/iloveyou/iloveyou.eb7a9c90-f361-11ed-9f34-acde48001122.jpg\n",
      "/Users/ananyaseelam/junior/sp23/ai-prac/RealTimeObjectDetection/Tensorflow/workspace/images/iloveyou/iloveyou.ecb5bb80-f361-11ed-9f34-acde48001122.jpg\n",
      "/Users/ananyaseelam/junior/sp23/ai-prac/RealTimeObjectDetection/Tensorflow/workspace/images/iloveyou/iloveyou.edf06b1c-f361-11ed-9f34-acde48001122.jpg\n",
      "/Users/ananyaseelam/junior/sp23/ai-prac/RealTimeObjectDetection/Tensorflow/workspace/images/iloveyou/iloveyou.ef2c73d6-f361-11ed-9f34-acde48001122.jpg\n"
     ]
    }
   ],
   "source": [
    "for label in labels:\n",
    "#     !mkdir {'Tensorflow\\workspace\\images\\collectedimages\\\\'+label}\n",
    "    os.mkdir('/Users/ananyaseelam/junior/sp23/ai-prac/RealTimeObjectDetection/Tensorflow/workspace/images/'+label)\n",
    "    cap = cv2.VideoCapture(0)\n",
    "    print('Collecting images for {}'.format(label))\n",
    "    time.sleep(5)\n",
    "    for imgnum in range(num_imgs):\n",
    "        ret, frame = cap.read()\n",
    "        imagename = os.path.join(IMAGES_PATH, label, label+'.'+'{}.jpg'.format(str(uuid.uuid1())))\n",
    "        print(imagename)\n",
    "        cv2.imwrite(imagename, frame)\n",
    "        cv2.imshow('frame', frame)\n",
    "        time.sleep(2)\n",
    "        \n",
    "        if cv2.waitKey(1) & 0xFF == ord('q'):\n",
    "            break\n",
    "    cap.release()"
   ]
  },
  {
   "cell_type": "code",
   "execution_count": null,
   "metadata": {},
   "outputs": [],
   "source": []
  }
 ],
 "metadata": {
  "kernelspec": {
   "display_name": "Python 3",
   "language": "python",
   "name": "python3"
  },
  "language_info": {
   "codemirror_mode": {
    "name": "ipython",
    "version": 3
   },
   "file_extension": ".py",
   "mimetype": "text/x-python",
   "name": "python",
   "nbconvert_exporter": "python",
   "pygments_lexer": "ipython3",
   "version": "3.7.6"
  }
 },
 "nbformat": 4,
 "nbformat_minor": 2
}
